{
 "cells": [
  {
   "cell_type": "code",
   "execution_count": 24,
   "metadata": {},
   "outputs": [],
   "source": [
    "import pandas as pd\n",
    "import os\n"
   ]
  },
  {
   "cell_type": "code",
   "execution_count": 25,
   "metadata": {},
   "outputs": [],
   "source": [
    "\n",
    "allFiles = os.listdir('scrapedData')\n",
    "csvFileNames = []\n",
    "for fileName in allFiles:\n",
    "    if \"csvOut\" in fileName:\n",
    "        csvFileNames.append(fileName)\n",
    "        \n",
    "\n",
    "combined_csv = pd.concat( [ pd.read_csv(\"scrapedData\\\\\" + f) for f in csvFileNames ] )        \n"
   ]
  },
  {
   "cell_type": "code",
   "execution_count": 26,
   "metadata": {},
   "outputs": [],
   "source": [
    "combined_csv.to_csv( \"combined_csv.csv\", index=False )"
   ]
  }
 ],
 "metadata": {
  "kernelspec": {
   "display_name": "Python 3.7.7 64-bit ('mlEnv': conda)",
   "language": "python",
   "name": "python37764bitmlenvconda75c86b840a424a4e95d50ae2ee417e09"
  },
  "language_info": {
   "codemirror_mode": {
    "name": "ipython",
    "version": 3
   },
   "file_extension": ".py",
   "mimetype": "text/x-python",
   "name": "python",
   "nbconvert_exporter": "python",
   "pygments_lexer": "ipython3",
   "version": "3.7.7"
  }
 },
 "nbformat": 4,
 "nbformat_minor": 4
}
