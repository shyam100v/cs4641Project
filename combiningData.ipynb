{
 "cells": [
  {
   "cell_type": "code",
   "execution_count": 103,
   "metadata": {},
   "outputs": [],
   "source": [
    "import pandas as pd\n",
    "import os\n",
    "from datetime import datetime\n",
    "from datetime import date\n"
   ]
  },
  {
   "cell_type": "code",
   "execution_count": 104,
   "metadata": {},
   "outputs": [],
   "source": [
    "\n",
    "allFiles = os.listdir('scrapedData')\n",
    "csvFileNames = []\n",
    "for fileName in allFiles:\n",
    "    if \"csvOut\" in fileName:\n",
    "        csvFileNames.append(fileName)\n",
    "        \n",
    "\n",
    "combined_csv = pd.concat( [ pd.read_csv(\"scrapedData\\\\\" + f) for f in csvFileNames ] )        \n"
   ]
  },
  {
   "cell_type": "code",
   "execution_count": 112,
   "metadata": {},
   "outputs": [
    {
     "name": "stdout",
     "output_type": "stream",
     "text": [
      "10800\n"
     ]
    }
   ],
   "source": [
    "pd.options.display.max_columns = None\n",
    "#combined_csv = pd.read_csv(\"scrapedData\\\\\" + csvFileNames[0])\n",
    "numRows = len(combined_csv.index)\n",
    "print(numRows)\n",
    "columnCountCurrent = (len(combined_csv.index))\n",
    "notAvailableColumn = [\"#NA\"] * numRows\n",
    "newStringColumn = [\"new\"] * numRows\n",
    "\n",
    "\n",
    "combined_csv['thumbnail_link'] = notAvailableColumn\n",
    "combined_csv['comments_disabled'] = notAvailableColumn\n",
    "combined_csv['ratings_disabled'] = notAvailableColumn\n",
    "combined_csv['video_error_or_removed'] = notAvailableColumn\n",
    "\n",
    "# Creating publishedDateCorrectFormat column\n",
    "videoPublishTimeColumn = (combined_csv['videoPublishTime'])\n",
    "videoPublishTimeColumnSplit1 = [i.split('T', 1)[0] for i in videoPublishTimeColumn]\n",
    "videoPublishTimeStandard = [datetime.strptime(i, '%Y-%m-%d') for i in videoPublishTimeColumnSplit1]    # THis is in standard datetime object format\n",
    "publishedDateCorrectFormat = [x.strftime(\"%d-%m-%y\") for x in videoPublishTimeStandard]\n",
    "combined_csv['publishedDateCorrectFormat'] = publishedDateCorrectFormat\n",
    "\n",
    "\n",
    "\n",
    "\n",
    "# Creating trendingDateCorrectFormat\n",
    "timeFetchedColumn = combined_csv['timeFetched']\n",
    "timeFetchedColumnSplit1 = [i.split(' ', 1)[0] for i in timeFetchedColumn]\n",
    "timeFetchedStandard = [datetime.strptime(i, '%Y-%m-%d') for i in timeFetchedColumnSplit1]\n",
    "trendingDateCorrectFormat = [x.strftime(\"%d-%m-%y\") for x in timeFetchedStandard]\n",
    "combined_csv['trendingDateCorrectFormat'] = trendingDateCorrectFormat\n",
    "\n",
    "\n",
    "# Calculating day difference\n",
    "dayDifference = [(timeFetchedStandard[i] - videoPublishTimeStandard[i]).days for i in range(numRows)]\n",
    "combined_csv['dayDifference'] = dayDifference\n",
    "\n",
    "# newOrOldData column\n",
    "combined_csv['newOrOldData'] = newStringColumn\n",
    "\n",
    "\n",
    "#combined_csv.head()"
   ]
  },
  {
   "cell_type": "code",
   "execution_count": 106,
   "metadata": {},
   "outputs": [],
   "source": [
    "combined_csv.to_csv( \"newDataOnly_csv_newFormat.csv\", index=False )"
   ]
  },
  {
   "cell_type": "code",
   "execution_count": 107,
   "metadata": {},
   "outputs": [],
   "source": [
    "oldData = pd.read_excel (r'finalOldData.xlsx')"
   ]
  },
  {
   "cell_type": "code",
   "execution_count": 113,
   "metadata": {},
   "outputs": [],
   "source": [
    "combinedOldNew_csv = pd.concat( [oldData, combined_csv] )        \n",
    "combinedOldNew_csv.to_csv( \"oldAndNewData.csv\", index=False )"
   ]
  }
 ],
 "metadata": {
  "kernelspec": {
   "display_name": "Python 3.7.7 64-bit ('mlEnv': conda)",
   "language": "python",
   "name": "python37764bitmlenvconda75c86b840a424a4e95d50ae2ee417e09"
  },
  "language_info": {
   "codemirror_mode": {
    "name": "ipython",
    "version": 3
   },
   "file_extension": ".py",
   "mimetype": "text/x-python",
   "name": "python",
   "nbconvert_exporter": "python",
   "pygments_lexer": "ipython3",
   "version": "3.7.7"
  }
 },
 "nbformat": 4,
 "nbformat_minor": 4
}
