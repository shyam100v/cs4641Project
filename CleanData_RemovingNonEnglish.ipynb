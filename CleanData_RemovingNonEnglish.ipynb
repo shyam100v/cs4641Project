{
 "cells": [
  {
   "cell_type": "code",
   "execution_count": 10,
   "metadata": {},
   "outputs": [],
   "source": [
    "import pandas as pd\n",
    "\n",
    "col_names = [\"region\",\"video_id\", \"timeFetched\", \"title\", \"channel_title\", \"category_id\", \"publish_time\", \"tags\", \"views\", \"likes\",\"dislikes\", \"comment_count\", \"thumbnail_link\", \"comments_disabled\", \"ratings_disabled\", \"video_error_or_removed\", \"description\"]\n",
    "data = pd.read_csv(\"combinedNewOld.csv\", names=col_names)"
   ]
  },
  {
   "cell_type": "code",
   "execution_count": 11,
   "metadata": {},
   "outputs": [],
   "source": [
    "def del_Rows(data):\n",
    "    \n",
    "    rows = len(data)\n",
    "    \n",
    "    for i in range(rows): #iterates through every row in data \n",
    "        s = str(data.loc[i][3]) #converts the title to a string\n",
    "        if (not(s.isascii())):\n",
    "            data.drop(i, axis = 0, inplace = True) #if not english, that row is deleted\n",
    "            \n",
    "#         try:\n",
    "#             s[0].encode(encoding='utf-8').decode('ascii') #checks if the first letter in title is in english\n",
    "#         except UnicodeDecodeError:\n",
    "#             data.drop(i, axis = 0, inplace = True) #if not english, that row is deleted\n",
    "    data.drop(data.index[0])\n",
    "    #data.drop('0', axis=1)\n",
    "    return data.to_csv(\"MODIFIED.csv\", sep=str(','))\n",
    "\n",
    "    "
   ]
  },
  {
   "cell_type": "code",
   "execution_count": 12,
   "metadata": {},
   "outputs": [],
   "source": [
    "del_Rows(data)"
   ]
  },
  {
   "cell_type": "code",
   "execution_count": 68,
   "metadata": {},
   "outputs": [
    {
     "name": "stdout",
     "output_type": "stream",
     "text": [
      "çº¢é»„è“ç»“æ¡ˆï¼å®Œæˆç»åœ°åå‡»ï¼çœ‹èƒŒåŽå…¬å®‰ä¸Žå¤®è§†çš„äº’æ€¼å¤§æˆï¼å°å“¥è°ˆæ”¿äº‹11/29\n",
      "it works!!\n"
     ]
    }
   ],
   "source": [
    "s = str(data.iloc[44547, 3])\n",
    "print(s)\n",
    "#if (not(s[0].isalpha())):\n",
    "if (s[0].isascii()):   \n",
    "    print('doesnt worl')\n",
    "    \n",
    "else:\n",
    "    print('it works!!')"
   ]
  },
  {
   "cell_type": "code",
   "execution_count": 55,
   "metadata": {},
   "outputs": [
    {
     "name": "stdout",
     "output_type": "stream",
     "text": [
      "ã€ENG SUB å…¨çƒã€‘ã€Šæ­Œæ‰‹2018ã€‹ç¬¬3æœŸ 20180126 æŽæ³‰å‘Šæ€¥è¸¢é¦† å¼ éŸ¶æ¶µå€Ÿæ­ŒæŠ’æƒ… å‘Šç™½â€œå¿ƒä¸­äººâ€The Singer 2 EP.3 Part1ã€æ¹–å—å«è§†å®˜æ–¹è¶…æ¸…ç‰ˆã€‘\n"
     ]
    }
   ],
   "source": [
    "s = str(data.iloc[55550, 3])\n",
    "print(s)"
   ]
  },
  {
   "cell_type": "code",
   "execution_count": 50,
   "metadata": {},
   "outputs": [
    {
     "name": "stdout",
     "output_type": "stream",
     "text": [
      "It may have been an ascii-encoded unicode string\n"
     ]
    }
   ],
   "source": [
    "s = str(data.iloc[55550, 3])\n",
    "try:\n",
    "    s[0].isascii()\n",
    "except UnicodeDecodeError:\n",
    "    print(\"it was not a ascii-encoded unicode string\")\n",
    "else:\n",
    "    print (\"It may have been an ascii-encoded unicode string\")"
   ]
  },
  {
   "cell_type": "code",
   "execution_count": 9,
   "metadata": {},
   "outputs": [],
   "source": [
    "data.to_csv(\"MODIFIED.csv\", sep=str(','))"
   ]
  },
  {
   "cell_type": "code",
   "execution_count": 108,
   "metadata": {},
   "outputs": [
    {
     "name": "stdout",
     "output_type": "stream",
     "text": [
      "WE WANT TO TALK ABOUT OUR MARRIAGE\n"
     ]
    }
   ],
   "source": [
    "s = str(data.loc[1][3])\n",
    "print(s)"
   ]
  },
  {
   "cell_type": "code",
   "execution_count": 5,
   "metadata": {},
   "outputs": [
    {
     "name": "stdout",
     "output_type": "stream",
     "text": [
      "title\n"
     ]
    }
   ],
   "source": [
    "s = str(data.loc[0][3]) \n",
    "print(s)"
   ]
  },
  {
   "cell_type": "code",
   "execution_count": 9,
   "metadata": {},
   "outputs": [
    {
     "name": "stdout",
     "output_type": "stream",
     "text": [
      "b\n"
     ]
    }
   ],
   "source": [
    "s = str(data.loc[0][3]) #converts the title to a string\n",
    "if (not(s[0].isascii())):\n",
    "    print(\"should print\")\n",
    "else:\n",
    "    print('b')"
   ]
  },
  {
   "cell_type": "code",
   "execution_count": null,
   "metadata": {},
   "outputs": [],
   "source": []
  }
 ],
 "metadata": {
  "kernelspec": {
   "display_name": "Python 3",
   "language": "python",
   "name": "python3"
  },
  "language_info": {
   "codemirror_mode": {
    "name": "ipython",
    "version": 3
   },
   "file_extension": ".py",
   "mimetype": "text/x-python",
   "name": "python",
   "nbconvert_exporter": "python",
   "pygments_lexer": "ipython3",
   "version": "3.7.5"
  }
 },
 "nbformat": 4,
 "nbformat_minor": 4
}
