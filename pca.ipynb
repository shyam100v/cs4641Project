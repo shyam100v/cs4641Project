{
 "cells": [
  {
   "cell_type": "code",
   "execution_count": 16,
   "metadata": {},
   "outputs": [
    {
     "data": {
      "image/png": "[encoded data removed]",
      "text/plain": [
       "<Figure size 576x576 with 1 Axes>"
      ]
     },
     "metadata": {
      "needs_background": "light"
     },
     "output_type": "display_data"
    }
   ],
   "source": [
    "import numpy as np \n",
    "import matplotlib.pyplot as plt \n",
    "import pandas as pd \n",
    "from sklearn.decomposition import PCA\n",
    "from sklearn.preprocessing import StandardScaler\n",
    "\n",
    "# Read combined.csv file\n",
    "columns = [\"trendingRank\", \"videoCategoryId\", \"videoViews\", \"videoLikes\", \"videoDislikes\", \n",
    "           \"videoCommentCount\", \"channelSubsCount\", \"channelVideoCount\", \"dayDifference\", \"publishedZTimeFloat\", \"publishedDayOfWeek\"]\n",
    "dataset = pd.read_csv('oldAndNewOnlyEnglish_noDuplicatesWithLikesAndComments.csv', usecols = columns) \n",
    "videoLikes = dataset[\"videoLikes\"]\n",
    "videoLikes.values[videoLikes > 10000] = 1\n",
    "videoLikes.values[videoLikes > 1] = 0\n",
    "# dataset.head()\n",
    "# print(len(videoLikes))\n",
    "\n",
    "# Standardize data\n",
    "features = [\"trendingRank\", \"videoCategoryId\", \"videoViews\", \"videoDislikes\", \n",
    "           \"videoCommentCount\", \"channelSubsCount\", \"channelVideoCount\", \"dayDifference\", \"publishedZTimeFloat\", \"publishedDayOfWeek\"]\n",
    "x = dataset.loc[:, features].values\n",
    "y = dataset.loc[:,[\"videoLikes\"]].values\n",
    "x = StandardScaler().fit_transform(x)\n",
    "\n",
    "# Applying PCA \n",
    "pca = PCA(n_components=2)\n",
    "principalComponents = pca.fit_transform(x)\n",
    "principalDf = pd.DataFrame(data = principalComponents\n",
    "             , columns = ['principal component 1', 'principal component 2'])\n",
    "\n",
    "finalDf = pd.concat([principalDf, dataset[\"videoLikes\"]], axis = 1)\n",
    "finalDf.head(5)\n",
    "\n",
    "# plot data\n",
    "fig = plt.figure(figsize = (8,8))\n",
    "ax = fig.add_subplot(1,1,1) \n",
    "ax.set_xlabel('Principal Component 1', fontsize = 15)\n",
    "ax.set_ylabel('Principal Component 2', fontsize = 15)\n",
    "ax.set_title('2 Component PCA', fontsize = 20)\n",
    "\n",
    "targetLabel = ['High number of likes(>10000)', 'Low number of likes(<=10000)']\n",
    "targets = [1, 0]\n",
    "colors = ['r', 'b']\n",
    "for target, color in zip(targets,colors):\n",
    "    indicesToKeep = finalDf[\"videoLikes\"] == target\n",
    "    ax.scatter(finalDf.loc[indicesToKeep, 'principal component 1']\n",
    "               , finalDf.loc[indicesToKeep, 'principal component 2']\n",
    "               , c = color\n",
    "               , s = 50)\n",
    "ax.legend(targetLabel)\n",
    "ax.grid()\n"
   ]
  },
  {
   "cell_type": "code",
   "execution_count": 10,
   "metadata": {},
   "outputs": [
    {
     "data": {
      "text/html": [
       "<div>\n",
       "<style scoped>\n",
       "    .dataframe tbody tr th:only-of-type {\n",
       "        vertical-align: middle;\n",
       "    }\n",
       "\n",
       "    .dataframe tbody tr th {\n",
       "        vertical-align: top;\n",
       "    }\n",
       "\n",
       "    .dataframe thead th {\n",
       "        text-align: right;\n",
       "    }\n",
       "</style>\n",
       "<table border=\"1\" class=\"dataframe\">\n",
       "  <thead>\n",
       "    <tr style=\"text-align: right;\">\n",
       "      <th></th>\n",
       "      <th>trendingRank</th>\n",
       "      <th>videoCategoryId</th>\n",
       "      <th>videoViews</th>\n",
       "      <th>videoDislikes</th>\n",
       "      <th>videoCommentCount</th>\n",
       "      <th>channelSubsCount</th>\n",
       "      <th>channelVideoCount</th>\n",
       "      <th>dayDifference</th>\n",
       "      <th>publishedZTimeFloat</th>\n",
       "      <th>publishedDayOfWeek</th>\n",
       "    </tr>\n",
       "  </thead>\n",
       "  <tbody>\n",
       "    <tr>\n",
       "      <th>0</th>\n",
       "      <td>-0.229821</td>\n",
       "      <td>-0.115524</td>\n",
       "      <td>0.083403</td>\n",
       "      <td>0.069679</td>\n",
       "      <td>1.836789</td>\n",
       "      <td>-0.119677</td>\n",
       "      <td>-0.070047</td>\n",
       "      <td>-0.078168</td>\n",
       "      <td>-1.704685</td>\n",
       "      <td>1.558949</td>\n",
       "    </tr>\n",
       "    <tr>\n",
       "      <th>1</th>\n",
       "      <td>-0.229821</td>\n",
       "      <td>0.479801</td>\n",
       "      <td>-0.069517</td>\n",
       "      <td>-0.066797</td>\n",
       "      <td>0.553144</td>\n",
       "      <td>-0.119677</td>\n",
       "      <td>-0.070047</td>\n",
       "      <td>-0.078168</td>\n",
       "      <td>1.222868</td>\n",
       "      <td>1.558949</td>\n",
       "    </tr>\n",
       "    <tr>\n",
       "      <th>2</th>\n",
       "      <td>-0.229821</td>\n",
       "      <td>0.628632</td>\n",
       "      <td>0.010935</td>\n",
       "      <td>0.149308</td>\n",
       "      <td>0.354714</td>\n",
       "      <td>-0.119677</td>\n",
       "      <td>-0.070047</td>\n",
       "      <td>-0.091510</td>\n",
       "      <td>-0.953133</td>\n",
       "      <td>-1.056484</td>\n",
       "    </tr>\n",
       "    <tr>\n",
       "      <th>3</th>\n",
       "      <td>-0.229821</td>\n",
       "      <td>0.330970</td>\n",
       "      <td>-0.102933</td>\n",
       "      <td>-0.054590</td>\n",
       "      <td>0.245050</td>\n",
       "      <td>-0.119677</td>\n",
       "      <td>-0.070047</td>\n",
       "      <td>-0.091510</td>\n",
       "      <td>-1.867256</td>\n",
       "      <td>-1.056484</td>\n",
       "    </tr>\n",
       "    <tr>\n",
       "      <th>4</th>\n",
       "      <td>-0.229821</td>\n",
       "      <td>1.075125</td>\n",
       "      <td>0.228016</td>\n",
       "      <td>0.299677</td>\n",
       "      <td>0.207380</td>\n",
       "      <td>-0.119677</td>\n",
       "      <td>-0.070047</td>\n",
       "      <td>-0.071497</td>\n",
       "      <td>0.657578</td>\n",
       "      <td>1.035863</td>\n",
       "    </tr>\n",
       "    <tr>\n",
       "      <th>5</th>\n",
       "      <td>-0.229821</td>\n",
       "      <td>-1.603835</td>\n",
       "      <td>0.678719</td>\n",
       "      <td>0.278072</td>\n",
       "      <td>0.177444</td>\n",
       "      <td>-0.119677</td>\n",
       "      <td>-0.070047</td>\n",
       "      <td>-0.078168</td>\n",
       "      <td>0.397300</td>\n",
       "      <td>1.558949</td>\n",
       "    </tr>\n",
       "    <tr>\n",
       "      <th>6</th>\n",
       "      <td>-0.229821</td>\n",
       "      <td>-0.859679</td>\n",
       "      <td>-0.164389</td>\n",
       "      <td>-0.079720</td>\n",
       "      <td>0.091937</td>\n",
       "      <td>-0.119677</td>\n",
       "      <td>-0.070047</td>\n",
       "      <td>-0.091510</td>\n",
       "      <td>-0.395051</td>\n",
       "      <td>-1.056484</td>\n",
       "    </tr>\n",
       "    <tr>\n",
       "      <th>7</th>\n",
       "      <td>-0.229821</td>\n",
       "      <td>1.075125</td>\n",
       "      <td>-0.068360</td>\n",
       "      <td>-0.040595</td>\n",
       "      <td>0.091763</td>\n",
       "      <td>-0.119677</td>\n",
       "      <td>-0.070047</td>\n",
       "      <td>-0.084839</td>\n",
       "      <td>0.892052</td>\n",
       "      <td>-1.579570</td>\n",
       "    </tr>\n",
       "    <tr>\n",
       "      <th>8</th>\n",
       "      <td>-0.229821</td>\n",
       "      <td>0.628632</td>\n",
       "      <td>-0.135761</td>\n",
       "      <td>-0.063886</td>\n",
       "      <td>0.090981</td>\n",
       "      <td>-0.119677</td>\n",
       "      <td>-0.070047</td>\n",
       "      <td>-0.084839</td>\n",
       "      <td>-0.402382</td>\n",
       "      <td>-1.579570</td>\n",
       "    </tr>\n",
       "    <tr>\n",
       "      <th>9</th>\n",
       "      <td>-0.229821</td>\n",
       "      <td>0.330970</td>\n",
       "      <td>-0.044510</td>\n",
       "      <td>0.164375</td>\n",
       "      <td>0.090633</td>\n",
       "      <td>-0.119677</td>\n",
       "      <td>-0.070047</td>\n",
       "      <td>-0.078168</td>\n",
       "      <td>0.742612</td>\n",
       "      <td>1.558949</td>\n",
       "    </tr>\n",
       "  </tbody>\n",
       "</table>\n",
       "</div>"
      ],
      "text/plain": [
       "   trendingRank  videoCategoryId  videoViews  videoDislikes  \\\n",
       "0     -0.229821        -0.115524    0.083403       0.069679   \n",
       "1     -0.229821         0.479801   -0.069517      -0.066797   \n",
       "2     -0.229821         0.628632    0.010935       0.149308   \n",
       "3     -0.229821         0.330970   -0.102933      -0.054590   \n",
       "4     -0.229821         1.075125    0.228016       0.299677   \n",
       "5     -0.229821        -1.603835    0.678719       0.278072   \n",
       "6     -0.229821        -0.859679   -0.164389      -0.079720   \n",
       "7     -0.229821         1.075125   -0.068360      -0.040595   \n",
       "8     -0.229821         0.628632   -0.135761      -0.063886   \n",
       "9     -0.229821         0.330970   -0.044510       0.164375   \n",
       "\n",
       "   videoCommentCount  channelSubsCount  channelVideoCount  dayDifference  \\\n",
       "0           1.836789         -0.119677          -0.070047      -0.078168   \n",
       "1           0.553144         -0.119677          -0.070047      -0.078168   \n",
       "2           0.354714         -0.119677          -0.070047      -0.091510   \n",
       "3           0.245050         -0.119677          -0.070047      -0.091510   \n",
       "4           0.207380         -0.119677          -0.070047      -0.071497   \n",
       "5           0.177444         -0.119677          -0.070047      -0.078168   \n",
       "6           0.091937         -0.119677          -0.070047      -0.091510   \n",
       "7           0.091763         -0.119677          -0.070047      -0.084839   \n",
       "8           0.090981         -0.119677          -0.070047      -0.084839   \n",
       "9           0.090633         -0.119677          -0.070047      -0.078168   \n",
       "\n",
       "   publishedZTimeFloat  publishedDayOfWeek  \n",
       "0            -1.704685            1.558949  \n",
       "1             1.222868            1.558949  \n",
       "2            -0.953133           -1.056484  \n",
       "3            -1.867256           -1.056484  \n",
       "4             0.657578            1.035863  \n",
       "5             0.397300            1.558949  \n",
       "6            -0.395051           -1.056484  \n",
       "7             0.892052           -1.579570  \n",
       "8            -0.402382           -1.579570  \n",
       "9             0.742612            1.558949  "
      ]
     },
     "execution_count": 10,
     "metadata": {},
     "output_type": "execute_result"
    }
   ],
   "source": [
    "pd.DataFrame(data = x, columns = features).head(10)"
   ]
  },
  {
   "cell_type": "code",
   "execution_count": 3,
   "metadata": {},
   "outputs": [
    {
     "data": {
      "text/plain": [
       "array([0.29227606, 0.24941395])"
      ]
     },
     "execution_count": 3,
     "metadata": {},
     "output_type": "execute_result"
    }
   ],
   "source": [
    "pca.explained_variance_ratio_"
   ]
  },
  {
   "cell_type": "code",
   "execution_count": 12,
   "metadata": {},
   "outputs": [
    {
     "data": {
      "text/plain": [
       "0     1\n",
       "1     1\n",
       "2     1\n",
       "3     1\n",
       "4     1\n",
       "5     1\n",
       "6     0\n",
       "7     1\n",
       "8     1\n",
       "9     1\n",
       "10    1\n",
       "11    1\n",
       "Name: videoLikes, dtype: int64"
      ]
     },
     "execution_count": 12,
     "metadata": {},
     "output_type": "execute_result"
    }
   ],
   "source": [
    "finalDf[\"videoLikes\"].head(12)"
   ]
  },
  {
   "cell_type": "code",
   "execution_count": 13,
   "metadata": {},
   "outputs": [
    {
     "data": {
      "image/png": "[encoded data removed]",
      "text/plain": [
       "<Figure size 432x288 with 1 Axes>"
      ]
     },
     "metadata": {
      "needs_background": "light"
     },
     "output_type": "display_data"
    }
   ],
   "source": [
    "pca = PCA().fit(x)\n",
    "plt.plot(np.cumsum(pca.explained_variance_ratio_))\n",
    "plt.xlabel('number of components')\n",
    "plt.ylabel('cumulative explained variance');"
   ]
  },
  {
   "cell_type": "code",
   "execution_count": null,
   "metadata": {},
   "outputs": [],
   "source": []
  }
 ],
 "metadata": {
  "kernelspec": {
   "display_name": "Python 3",
   "language": "python",
   "name": "python3"
  },
  "language_info": {
   "codemirror_mode": {
    "name": "ipython",
    "version": 3
   },
   "file_extension": ".py",
   "mimetype": "text/x-python",
   "name": "python",
   "nbconvert_exporter": "python",
   "pygments_lexer": "ipython3",
   "version": "3.7.6"
  }
 },
 "nbformat": 4,
 "nbformat_minor": 4
}
